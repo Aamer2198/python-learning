{
 "cells": [
  {
   "cell_type": "code",
   "execution_count": null,
   "metadata": {},
   "outputs": [],
   "source": [
    "# Introduction to tuple Data types:---\n",
    "\n",
    "# Defination:--An immutable list is called as a Tuple\n",
    "\n",
    "# It is classified as immutable Data type\n",
    "\n",
    "# how to define tuple------()\n",
    "\n",
    "\n"
   ]
  },
  {
   "cell_type": "code",
   "execution_count": 1,
   "metadata": {},
   "outputs": [
    {
     "data": {
      "text/plain": [
       "tuple"
      ]
     },
     "execution_count": 1,
     "metadata": {},
     "output_type": "execute_result"
    }
   ],
   "source": [
    "dimension=(100,45)\n",
    "type(dimension)"
   ]
  },
  {
   "cell_type": "code",
   "execution_count": 2,
   "metadata": {},
   "outputs": [
    {
     "name": "stdout",
     "output_type": "stream",
     "text": [
      "Naveen\n",
      "Vaidaki\n",
      "Sushmita\n",
      "Kaleem\n"
     ]
    }
   ],
   "source": [
    "student=(\"Naveen\",\"Vaidaki\",\"Sushmita\",\"Kaleem\")\n",
    "\n",
    "for x in student:\n",
    "    print(x)"
   ]
  },
  {
   "cell_type": "code",
   "execution_count": null,
   "metadata": {},
   "outputs": [],
   "source": [
    "#Introduction to dictionaries:------>\n",
    "\n",
    "# Defination:-it is a combination of key value pair\n",
    "\n",
    "#it is classified as mutable data type\n",
    "\n",
    "# how to define as dictionary-------{}"
   ]
  },
  {
   "cell_type": "code",
   "execution_count": 10,
   "metadata": {},
   "outputs": [
    {
     "name": "stdout",
     "output_type": "stream",
     "text": [
      "{'color': 'Green', 'Point': 10}\n",
      "{'color': 'Green', 'Point': 10, 'Starting_point': 'level 0'}\n",
      "{'color': 'Green', 'Point': 10, 'Starting_point': 'level 0', 'Height': 23}\n"
     ]
    }
   ],
   "source": [
    "alien={\"color\": \"Green\",\"Point\":10}    #keys is acting as index point in dict\n",
    "\n",
    "print(alien)\n",
    "\n",
    "alien[\"Starting_point\"]=\"level 0\"    #how to add new element in dict\n",
    "\n",
    "print(alien)\n",
    "\n",
    "alien[\"Height\"]=23\n",
    "\n",
    "print(alien)\n",
    "\n"
   ]
  },
  {
   "cell_type": "code",
   "execution_count": 6,
   "metadata": {},
   "outputs": [
    {
     "data": {
      "text/plain": [
       "10"
      ]
     },
     "execution_count": 6,
     "metadata": {},
     "output_type": "execute_result"
    }
   ],
   "source": [
    "#how to access keys in dict\n",
    "\n",
    "alien[\"Point\"]    #Note:--Give tje key and get the values"
   ]
  },
  {
   "cell_type": "code",
   "execution_count": 12,
   "metadata": {},
   "outputs": [
    {
     "ename": "KeyError",
     "evalue": "'green'",
     "output_type": "error",
     "traceback": [
      "\u001b[1;31m---------------------------------------------------------------------------\u001b[0m",
      "\u001b[1;31mKeyError\u001b[0m                                  Traceback (most recent call last)",
      "Cell \u001b[1;32mIn[12], line 1\u001b[0m\n\u001b[1;32m----> 1\u001b[0m \u001b[43malien\u001b[49m\u001b[43m[\u001b[49m\u001b[38;5;124;43m\"\u001b[39;49m\u001b[38;5;124;43mgreen\u001b[39;49m\u001b[38;5;124;43m\"\u001b[39;49m\u001b[43m]\u001b[49m    \u001b[38;5;66;03m#we cannot give key by giving value.\u001b[39;00m\n",
      "\u001b[1;31mKeyError\u001b[0m: 'green'"
     ]
    }
   ],
   "source": [
    "alien[\"green\"]    #we cannot give key by giving value."
   ]
  },
  {
   "cell_type": "code",
   "execution_count": null,
   "metadata": {},
   "outputs": [],
   "source": [
    "#Implementation of for loops on dictionary:------\n",
    "\n",
    "# general Syntax:---\n",
    "\n",
    "# for temp1,temp2 in mainvar.items():\n",
    "#     print(temp1)\n",
    "#     print(temp2)"
   ]
  },
  {
   "cell_type": "code",
   "execution_count": 8,
   "metadata": {},
   "outputs": [
    {
     "name": "stdout",
     "output_type": "stream",
     "text": [
      "{'color': 'Green', 'Point': 10, 'Starting_point': 'level 0', 'Height': 23}\n",
      "color\n",
      "Green\n",
      "Point\n",
      "10\n",
      "Starting_point\n",
      "level 0\n",
      "Height\n",
      "23\n"
     ]
    }
   ],
   "source": [
    "alien={'color': 'Green', 'Point': 10, 'Starting_point': 'level 0', 'Height': 23}\n",
    "print(alien)\n",
    "\n",
    "for k,v in alien.items():\n",
    "    print(k)\n",
    "    print(v)"
   ]
  },
  {
   "cell_type": "code",
   "execution_count": null,
   "metadata": {},
   "outputs": [],
   "source": []
  },
  {
   "cell_type": "code",
   "execution_count": null,
   "metadata": {},
   "outputs": [],
   "source": []
  },
  {
   "cell_type": "code",
   "execution_count": null,
   "metadata": {},
   "outputs": [],
   "source": []
  },
  {
   "cell_type": "code",
   "execution_count": null,
   "metadata": {},
   "outputs": [],
   "source": []
  },
  {
   "cell_type": "code",
   "execution_count": null,
   "metadata": {},
   "outputs": [],
   "source": []
  }
 ],
 "metadata": {
  "kernelspec": {
   "display_name": "Python 3",
   "language": "python",
   "name": "python3"
  },
  "language_info": {
   "codemirror_mode": {
    "name": "ipython",
    "version": 3
   },
   "file_extension": ".py",
   "mimetype": "text/x-python",
   "name": "python",
   "nbconvert_exporter": "python",
   "pygments_lexer": "ipython3",
   "version": "3.12.1"
  }
 },
 "nbformat": 4,
 "nbformat_minor": 2
}
