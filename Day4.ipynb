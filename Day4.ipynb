{
 "cells": [
  {
   "cell_type": "code",
   "execution_count": null,
   "metadata": {},
   "outputs": [],
   "source": [
    "#List Data types\n",
    "\n",
    "#list is a collection of items declared in a particular order\n",
    "#it is classified as an mutable data types\n",
    "#how to declare the list -------->[]\n",
    "\n",
    "\n",
    "#introduction to indexation:--\n",
    "\n",
    "# 1..how to add mew element in the List\n",
    "#          to add new element to last position we use \"append()\" method\n",
    "#          to add new element to  position  that we use \"insert(index no,\"value\")\" method\n",
    "\n",
    "\n",
    "# 2..how to modify element in the List \n",
    "    #append() method is used to add new element into list in the last\n",
    "    #insert(index no,'string/int') method is used to add new element into list in the last\n",
    "\n",
    "\n",
    "# 3..how to delete element in the List\n",
    "    #students[2]=\"Ruby\"  #to modify element in list we use this method"
   ]
  },
  {
   "cell_type": "code",
   "execution_count": 5,
   "metadata": {},
   "outputs": [
    {
     "name": "stdout",
     "output_type": "stream",
     "text": [
      "['Aamer', 'kirti', 'Naveed', 'Rizwan']\n",
      "Kirti\n"
     ]
    }
   ],
   "source": [
    "students=[\"Aamer\",\"kirti\",\"Naveed\",\"Rizwan\"]\n",
    "print(students)\n",
    "print(students[1].title())\n"
   ]
  },
  {
   "cell_type": "code",
   "execution_count": 3,
   "metadata": {},
   "outputs": [
    {
     "data": {
      "text/plain": [
       "list"
      ]
     },
     "execution_count": 3,
     "metadata": {},
     "output_type": "execute_result"
    }
   ],
   "source": [
    "type(students)"
   ]
  },
  {
   "cell_type": "code",
   "execution_count": 8,
   "metadata": {},
   "outputs": [
    {
     "name": "stdout",
     "output_type": "stream",
     "text": [
      "['Aamer', 'kirti', 'Naveed', 'Rizwan', 'Aadil', 'Aadil', 'Aadil']\n",
      "['Aamer', 'kirti', 'Naveed', 'Zohan', 'Rizwan', 'Aadil', 'Aadil', 'Aadil']\n"
     ]
    }
   ],
   "source": [
    "#interview question :-what is the diff btw append and insert method in list data types ...can u pls explain\n",
    "\n",
    "students.append(\"Aadil\")  #append() method is used to add new element into list in the last \n",
    "print(students)\n",
    "\n",
    "students.insert(3,\"Zohan\")  #insert(index no,'string/int') method is used to add new element into list in the last\n",
    "print(students)"
   ]
  },
  {
   "cell_type": "code",
   "execution_count": 10,
   "metadata": {},
   "outputs": [
    {
     "name": "stdout",
     "output_type": "stream",
     "text": [
      "['Aamer', 'kirti', 'Ruby', 'Zohan', 'Rizwan', 'Aadil', 'Aadil', 'Aadil']\n"
     ]
    }
   ],
   "source": [
    "students[2]=\"Ruby\"  #to modify element in list we use this method\n",
    "print(students)"
   ]
  },
  {
   "cell_type": "code",
   "execution_count": 11,
   "metadata": {},
   "outputs": [
    {
     "name": "stdout",
     "output_type": "stream",
     "text": [
      "['Aamer', 'kirti', 'Ruby', 'Rizwan', 'Aadil', 'Aadil', 'Aadil']\n"
     ]
    }
   ],
   "source": [
    "del students[3]  #to delete an element from list we  use del keyword\n",
    "print(students)"
   ]
  },
  {
   "cell_type": "code",
   "execution_count": 12,
   "metadata": {},
   "outputs": [
    {
     "name": "stdout",
     "output_type": "stream",
     "text": [
      "The Zen of Python, by Tim Peters\n",
      "\n",
      "Beautiful is better than ugly.\n",
      "Explicit is better than implicit.\n",
      "Simple is better than complex.\n",
      "Complex is better than complicated.\n",
      "Flat is better than nested.\n",
      "Sparse is better than dense.\n",
      "Readability counts.\n",
      "Special cases aren't special enough to break the rules.\n",
      "Although practicality beats purity.\n",
      "Errors should never pass silently.\n",
      "Unless explicitly silenced.\n",
      "In the face of ambiguity, refuse the temptation to guess.\n",
      "There should be one-- and preferably only one --obvious way to do it.\n",
      "Although that way may not be obvious at first unless you're Dutch.\n",
      "Now is better than never.\n",
      "Although never is often better than *right* now.\n",
      "If the implementation is hard to explain, it's a bad idea.\n",
      "If the implementation is easy to explain, it may be a good idea.\n",
      "Namespaces are one honking great idea -- let's do more of those!\n"
     ]
    }
   ],
   "source": [
    "import this\n"
   ]
  }
 ],
 "metadata": {
  "kernelspec": {
   "display_name": "Python 3",
   "language": "python",
   "name": "python3"
  },
  "language_info": {
   "codemirror_mode": {
    "name": "ipython",
    "version": 3
   },
   "file_extension": ".py",
   "mimetype": "text/x-python",
   "name": "python",
   "nbconvert_exporter": "python",
   "pygments_lexer": "ipython3",
   "version": "3.12.1"
  }
 },
 "nbformat": 4,
 "nbformat_minor": 2
}
