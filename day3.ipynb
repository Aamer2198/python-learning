{
 "cells": [
  {
   "cell_type": "code",
   "execution_count": 2,
   "metadata": {},
   "outputs": [],
   "source": [
    "name=\"aamer\"\n",
    "name2='mohammed'"
   ]
  },
  {
   "cell_type": "code",
   "execution_count": 7,
   "metadata": {},
   "outputs": [
    {
     "name": "stdout",
     "output_type": "stream",
     "text": [
      "AAMER MOHAMMED\n"
     ]
    }
   ],
   "source": [
    "fullName=f\"{name} {name2}\"\n",
    "print(fullName.upper())"
   ]
  },
  {
   "cell_type": "code",
   "execution_count": 8,
   "metadata": {},
   "outputs": [
    {
     "name": "stdout",
     "output_type": "stream",
     "text": [
      "aamer mohammed\n"
     ]
    }
   ],
   "source": [
    "print(fullName.lower())"
   ]
  },
  {
   "cell_type": "code",
   "execution_count": 9,
   "metadata": {},
   "outputs": [
    {
     "name": "stdout",
     "output_type": "stream",
     "text": [
      "Aamer Mohammed\n"
     ]
    }
   ],
   "source": [
    "print(fullName.title())"
   ]
  },
  {
   "cell_type": "code",
   "execution_count": 10,
   "metadata": {},
   "outputs": [],
   "source": [
    "#removing whiteSpaces from string"
   ]
  },
  {
   "cell_type": "code",
   "execution_count": 11,
   "metadata": {},
   "outputs": [
    {
     "name": "stdout",
     "output_type": "stream",
     "text": [
      "Nanded\n"
     ]
    }
   ],
   "source": [
    "address=\"    Nanded\"\n",
    "removeSpaces=address.strip()\n",
    "print(removeSpaces)\n"
   ]
  },
  {
   "cell_type": "code",
   "execution_count": 18,
   "metadata": {},
   "outputs": [
    {
     "name": "stdout",
     "output_type": "stream",
     "text": [
      "my name is Aamer Mohammed and \n",
      " I am from Nanded \n",
      "\t and I am from Nanded\n"
     ]
    }
   ],
   "source": [
    "sentences=f\"my name is {fullName.title()} and \\n I am from {address.strip()} \\n\\t and I am from {address.strip()}\"\n",
    "print(sentences)"
   ]
  },
  {
   "cell_type": "code",
   "execution_count": 19,
   "metadata": {},
   "outputs": [
    {
     "name": "stdout",
     "output_type": "stream",
     "text": [
      " Name: Mohammed \n",
      " Age: 21 \n",
      " Gender: Male \n",
      " Adress: Hilal Nagar \n",
      " City: NANDED \n",
      " State: MAHARASHTRA\n"
     ]
    }
   ],
   "source": [
    "name=\"mohammed\"\n",
    "Age=21\n",
    "gender=\"male\"\n",
    "Adress=\"hilal nagar\"\n",
    "city=\"Nanded\"\n",
    "state=\"maharashtra\"\n",
    "\n",
    "information=f\" Name: {name.title()} \\n Age: {Age} \\n Gender: {gender.title()} \\n Adress: {Adress.title()} \\n City: {city.upper()} \\n State: {state.upper()}\"\n",
    "print(information)"
   ]
  },
  {
   "cell_type": "code",
   "execution_count": null,
   "metadata": {},
   "outputs": [],
   "source": []
  }
 ],
 "metadata": {
  "kernelspec": {
   "display_name": "Python 3",
   "language": "python",
   "name": "python3"
  },
  "language_info": {
   "codemirror_mode": {
    "name": "ipython",
    "version": 3
   },
   "file_extension": ".py",
   "mimetype": "text/x-python",
   "name": "python",
   "nbconvert_exporter": "python",
   "pygments_lexer": "ipython3",
   "version": "3.12.1"
  }
 },
 "nbformat": 4,
 "nbformat_minor": 2
}
