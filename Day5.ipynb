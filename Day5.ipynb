{
 "cells": [
  {
   "cell_type": "code",
   "execution_count": 2,
   "metadata": {},
   "outputs": [],
   "source": [
    "# Continuation with List data types:-->\n",
    "\n",
    "# Organising the list datatypes:----->\n",
    "\n",
    "#  req:-we want to organise the list in a a-z order\n",
    "\n",
    "\n",
    "# 1...temp approach=======sorted methods==> we can have original list order maintained\n",
    "# 2...permanant approach====>sort method===>we will not be having original order ---changes are applied permanantly\n",
    "\n",
    "\n",
    "# interview question:==  >diff bet sort and sorted method\n",
    "\n",
    "\n"
   ]
  },
  {
   "cell_type": "code",
   "execution_count": 5,
   "metadata": {},
   "outputs": [
    {
     "name": "stdout",
     "output_type": "stream",
     "text": [
      "['Maruti', 'Tata', 'Benz', 'BMW', 'Kia']\n",
      "['BMW', 'Benz', 'Kia', 'Maruti', 'Tata']\n",
      "['Maruti', 'Tata', 'Benz', 'BMW', 'Kia']\n"
     ]
    }
   ],
   "source": [
    "cars=[\"Maruti\",\"Tata\",\"Benz\",\"BMW\",\"Kia\"]\n",
    "print(cars)\n",
    "\n",
    "print(sorted(cars))    #temperory approach\n",
    "print(cars)\n",
    "\n",
    "      "
   ]
  },
  {
   "cell_type": "code",
   "execution_count": 6,
   "metadata": {},
   "outputs": [
    {
     "name": "stdout",
     "output_type": "stream",
     "text": [
      "['BMW', 'Benz', 'Kia', 'Maruti', 'Tata']\n"
     ]
    }
   ],
   "source": [
    "\n",
    "cars.sort()\n",
    "print(cars)"
   ]
  },
  {
   "cell_type": "code",
   "execution_count": null,
   "metadata": {},
   "outputs": [],
   "source": [
    "# req:---> Reverse order list "
   ]
  },
  {
   "cell_type": "code",
   "execution_count": 9,
   "metadata": {},
   "outputs": [
    {
     "name": "stdout",
     "output_type": "stream",
     "text": [
      "['Tata', 'Maruti', 'Kia', 'Benz', 'BMW']\n"
     ]
    }
   ],
   "source": [
    "cars.reverse()\n",
    "print(cars)"
   ]
  },
  {
   "cell_type": "code",
   "execution_count": null,
   "metadata": {},
   "outputs": [],
   "source": [
    "# req:----> i want to know the total length of list"
   ]
  },
  {
   "cell_type": "code",
   "execution_count": 10,
   "metadata": {},
   "outputs": [
    {
     "name": "stdout",
     "output_type": "stream",
     "text": [
      "5\n"
     ]
    }
   ],
   "source": [
    "print(len(cars))   #len() methods is used to find out the lentgth of list datatypes\n"
   ]
  },
  {
   "cell_type": "code",
   "execution_count": null,
   "metadata": {},
   "outputs": [],
   "source": [
    "# Slicing the List:------> \n",
    "\n",
    "\n",
    "# syntax:--->  [start_value:stop_value:step_count]\n",
    "\n",
    "# Note_Point:--stop_value is always exclusive,to include the stop value we have to increment the index by +1"
   ]
  },
  {
   "cell_type": "code",
   "execution_count": null,
   "metadata": {},
   "outputs": [],
   "source": []
  },
  {
   "cell_type": "code",
   "execution_count": 12,
   "metadata": {},
   "outputs": [
    {
     "data": {
      "text/plain": [
       "list"
      ]
     },
     "execution_count": 12,
     "metadata": {},
     "output_type": "execute_result"
    }
   ],
   "source": [
    "student=[\"javeed\",\"aamer\",\"irfan\",\"rizwan\",\"zohan\"]\n",
    "type(student)"
   ]
  },
  {
   "cell_type": "code",
   "execution_count": 19,
   "metadata": {},
   "outputs": [
    {
     "name": "stdout",
     "output_type": "stream",
     "text": [
      "['javeed', 'aamer']\n",
      "['zohan']\n"
     ]
    }
   ],
   "source": [
    "print(student[0:2])\n",
    "print(student[4:6])"
   ]
  },
  {
   "cell_type": "code",
   "execution_count": 22,
   "metadata": {},
   "outputs": [
    {
     "name": "stdout",
     "output_type": "stream",
     "text": [
      "['javeed', 'irfan', 'zohan']\n",
      "['javeed', 'rizwan']\n"
     ]
    }
   ],
   "source": [
    "print(student[0:6:2])\n",
    "print(student[0:6:3])"
   ]
  },
  {
   "cell_type": "code",
   "execution_count": null,
   "metadata": {},
   "outputs": [],
   "source": []
  }
 ],
 "metadata": {
  "kernelspec": {
   "display_name": "Python 3",
   "language": "python",
   "name": "python3"
  },
  "language_info": {
   "codemirror_mode": {
    "name": "ipython",
    "version": 3
   },
   "file_extension": ".py",
   "mimetype": "text/x-python",
   "name": "python",
   "nbconvert_exporter": "python",
   "pygments_lexer": "ipython3",
   "version": "3.12.1"
  }
 },
 "nbformat": 4,
 "nbformat_minor": 2
}
